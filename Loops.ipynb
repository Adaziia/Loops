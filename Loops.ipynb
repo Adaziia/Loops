{
  "nbformat": 4,
  "nbformat_minor": 0,
  "metadata": {
    "colab": {
      "provenance": []
    },
    "kernelspec": {
      "name": "python3",
      "display_name": "Python 3"
    },
    "language_info": {
      "name": "python"
    }
  },
  "cells": [
    {
      "cell_type": "markdown",
      "source": [],
      "metadata": {
        "id": "cZ0cVBKW5VVO"
      }
    },
    {
      "cell_type": "markdown",
      "source": [
        "Loops: will repeat the same task.\n",
        "There are two types of loop\n",
        "1. For loop: computationally less expensive and can execute in faster time. (used when we know the exact no. of iterations/ use for dealing with sequential data(String, list, tuples))\n",
        "2. while loop: execution takes time.(used in cases where certain are incorporated.)\n",
        "e.g:"
      ],
      "metadata": {
        "id": "POmTXeM35XMk"
      }
    },
    {
      "cell_type": "code",
      "source": [
        "Name=['ada','aka','elo','marii','dal']\n"
      ],
      "metadata": {
        "id": "26pEHfGVA1wI"
      },
      "execution_count": null,
      "outputs": []
    },
    {
      "cell_type": "markdown",
      "source": [
        "For loop"
      ],
      "metadata": {
        "id": "kZwpgZnE0YMw"
      }
    },
    {
      "cell_type": "code",
      "source": [
        "for Name in Name:   # Name is iteration (repetition of the process)\n",
        "  print(Name)"
      ],
      "metadata": {
        "colab": {
          "base_uri": "https://localhost:8080/"
        },
        "id": "yoIS8lmDBy99",
        "outputId": "494af6fa-d750-41be-c718-e235386c2e82"
      },
      "execution_count": null,
      "outputs": [
        {
          "output_type": "stream",
          "name": "stdout",
          "text": [
            "ada\n",
            "aka\n",
            "elo\n",
            "marii\n",
            "dal\n"
          ]
        }
      ]
    },
    {
      "cell_type": "code",
      "source": [
        "num=[1,3,5,6,7,8,9]"
      ],
      "metadata": {
        "id": "0SOWeo5VCm0i"
      },
      "execution_count": null,
      "outputs": []
    },
    {
      "cell_type": "code",
      "source": [
        "for nums in num:\n",
        "  print(num)"
      ],
      "metadata": {
        "colab": {
          "base_uri": "https://localhost:8080/"
        },
        "id": "vnCwmmQtCrQv",
        "outputId": "4d4b1e09-0bec-421d-ae0b-455f5260b249"
      },
      "execution_count": null,
      "outputs": [
        {
          "output_type": "stream",
          "name": "stdout",
          "text": [
            "[1, 3, 5, 6, 7, 8, 9]\n",
            "[1, 3, 5, 6, 7, 8, 9]\n",
            "[1, 3, 5, 6, 7, 8, 9]\n",
            "[1, 3, 5, 6, 7, 8, 9]\n",
            "[1, 3, 5, 6, 7, 8, 9]\n",
            "[1, 3, 5, 6, 7, 8, 9]\n",
            "[1, 3, 5, 6, 7, 8, 9]\n"
          ]
        }
      ]
    },
    {
      "cell_type": "code",
      "source": [
        "for i in range(5):\n",
        "  print(i)"
      ],
      "metadata": {
        "colab": {
          "base_uri": "https://localhost:8080/"
        },
        "id": "cdWH2zcxCq7k",
        "outputId": "61f7141d-38fa-44a3-ca15-750960640ded"
      },
      "execution_count": null,
      "outputs": [
        {
          "output_type": "stream",
          "name": "stdout",
          "text": [
            "0\n",
            "1\n",
            "2\n",
            "3\n",
            "4\n"
          ]
        }
      ]
    },
    {
      "cell_type": "code",
      "source": [
        "for i in range(3,5):\n",
        "  print(i)"
      ],
      "metadata": {
        "colab": {
          "base_uri": "https://localhost:8080/"
        },
        "id": "DpEkaA9tDED6",
        "outputId": "5af12685-f254-43bb-b578-9f8cd751d6c6"
      },
      "execution_count": null,
      "outputs": [
        {
          "output_type": "stream",
          "name": "stdout",
          "text": [
            "3\n",
            "4\n"
          ]
        }
      ]
    },
    {
      "cell_type": "markdown",
      "source": [
        "Display first 10 natural nos."
      ],
      "metadata": {
        "id": "FJujKvyDDd1b"
      }
    },
    {
      "cell_type": "code",
      "source": [
        "for i in range(0,10):\n",
        "  print(i)"
      ],
      "metadata": {
        "colab": {
          "base_uri": "https://localhost:8080/"
        },
        "id": "rGe9OLHlDclj",
        "outputId": "0d16460d-917d-4e0c-9f15-fc1c71db4f30"
      },
      "execution_count": null,
      "outputs": [
        {
          "output_type": "stream",
          "name": "stdout",
          "text": [
            "0\n",
            "1\n",
            "2\n",
            "3\n",
            "4\n",
            "5\n",
            "6\n",
            "7\n",
            "8\n",
            "9\n"
          ]
        }
      ]
    },
    {
      "cell_type": "markdown",
      "source": [
        "Here we have three range (start(inclusive),stop(exclusive), step)\n",
        "E.g:"
      ],
      "metadata": {
        "id": "uKjkTVSdDvNq"
      }
    },
    {
      "cell_type": "code",
      "source": [
        "for i in range(0,50,5):\n",
        "  print(i)"
      ],
      "metadata": {
        "colab": {
          "base_uri": "https://localhost:8080/"
        },
        "id": "XJuptlXnD4aI",
        "outputId": "963de526-9009-4e80-92f6-44e89ffd85d2"
      },
      "execution_count": null,
      "outputs": [
        {
          "output_type": "stream",
          "name": "stdout",
          "text": [
            "0\n",
            "5\n",
            "10\n",
            "15\n",
            "20\n",
            "25\n",
            "30\n",
            "35\n",
            "40\n",
            "45\n"
          ]
        }
      ]
    },
    {
      "cell_type": "markdown",
      "source": [
        "Take a list of numbers and display all the even numbers from the list."
      ],
      "metadata": {
        "id": "ONSWrEQsYzJg"
      }
    },
    {
      "cell_type": "code",
      "source": [
        "for i in range(0,20):\n",
        "  if i%2==0:\n",
        "    print(i)"
      ],
      "metadata": {
        "colab": {
          "base_uri": "https://localhost:8080/"
        },
        "id": "JlY_pRVkY-Jt",
        "outputId": "e77c78d8-8974-4e59-9513-40e2988c3707"
      },
      "execution_count": null,
      "outputs": [
        {
          "output_type": "stream",
          "name": "stdout",
          "text": [
            "0\n",
            "2\n",
            "4\n",
            "6\n",
            "8\n",
            "10\n",
            "12\n",
            "14\n",
            "16\n",
            "18\n"
          ]
        }
      ]
    },
    {
      "cell_type": "markdown",
      "source": [
        "Take a list of numbers and display all the even number from the list"
      ],
      "metadata": {
        "id": "I7Qd2u0paAdV"
      }
    },
    {
      "cell_type": "code",
      "source": [
        "for i in range(0,40):\n",
        "  if i%3==0:\n",
        "    print(i,end=\" \")"
      ],
      "metadata": {
        "colab": {
          "base_uri": "https://localhost:8080/"
        },
        "id": "dMAB5TeGaXUV",
        "outputId": "b79d8b85-212c-46da-ad97-3b16a8dd2850"
      },
      "execution_count": null,
      "outputs": [
        {
          "output_type": "stream",
          "name": "stdout",
          "text": [
            "0 3 6 9 12 15 18 21 24 27 30 33 36 39 "
          ]
        }
      ]
    },
    {
      "cell_type": "markdown",
      "source": [
        "While loop:computationally more expensive and more lines and take time to execute\n",
        "e.g: a=1 (here (a) is  temporary variable)\n",
        "while a<=10: (this is your expression)\n",
        "\n",
        "\n"
      ],
      "metadata": {
        "id": "XRlL0JhK0J9f"
      }
    },
    {
      "cell_type": "code",
      "source": [
        "a=2\n",
        "while a<=10:\n",
        "   print(a)\n",
        "   a=a+2"
      ],
      "metadata": {
        "colab": {
          "base_uri": "https://localhost:8080/"
        },
        "id": "2rjfeUpq0ii4",
        "outputId": "cfc746cb-98f0-4eaa-8d9d-745de6db924e"
      },
      "execution_count": 13,
      "outputs": [
        {
          "output_type": "stream",
          "name": "stdout",
          "text": [
            "2\n",
            "4\n",
            "6\n",
            "8\n",
            "10\n"
          ]
        }
      ]
    },
    {
      "cell_type": "markdown",
      "source": [
        "Display all the even numbers between 1 to 20 (both numbers included)"
      ],
      "metadata": {
        "id": "fNtV9fYi3KIw"
      }
    },
    {
      "cell_type": "code",
      "source": [
        "a=2\n",
        "while a<=20:\n",
        "  print(a)\n",
        "  a=a+2"
      ],
      "metadata": {
        "colab": {
          "base_uri": "https://localhost:8080/"
        },
        "id": "RSjThx4N3Jt-",
        "outputId": "8cddc7e7-6641-4eb9-b54b-4c1ae0bead7a"
      },
      "execution_count": 16,
      "outputs": [
        {
          "output_type": "stream",
          "name": "stdout",
          "text": [
            "2\n",
            "4\n",
            "6\n",
            "8\n",
            "10\n",
            "12\n",
            "14\n",
            "16\n",
            "18\n",
            "20\n"
          ]
        }
      ]
    },
    {
      "cell_type": "markdown",
      "source": [
        "For loop and while loop.\n",
        "To controlling the flow in loops\n",
        "1. break statement: break the loop when element is satisfying a given condition.\n",
        "2. continue statement: continue to iterate and only the element in the given condition get skip."
      ],
      "metadata": {
        "id": "Dn2BqXz9atPw"
      }
    },
    {
      "cell_type": "markdown",
      "source": [],
      "metadata": {
        "id": "q_afJF5elUDN"
      }
    },
    {
      "cell_type": "code",
      "source": [
        "Fruits=['Apple','Mango','Cucumber','Grapes','Lichi','Jet fruit']\n",
        "for i in Fruits:\n",
        "  if i=='Grapes':\n",
        "   continue    # only the given condition will skip and the other elements will continue to iterate\n",
        "  print(i)\n",
        "\n",
        "\n"
      ],
      "metadata": {
        "colab": {
          "base_uri": "https://localhost:8080/"
        },
        "outputId": "662d8a31-6044-4119-d904-fe91e5412e7e",
        "id": "e7HqrwLglIcs"
      },
      "execution_count": 6,
      "outputs": [
        {
          "output_type": "stream",
          "name": "stdout",
          "text": [
            "Apple\n",
            "Mango\n",
            "Cucumber\n",
            "Lichi\n",
            "Jet fruit\n"
          ]
        }
      ]
    },
    {
      "cell_type": "code",
      "source": [
        "Name=['Kayia','Adaziia','Eloni','Mariine','Daili','Salew','Losa']\n",
        "for N in Name:\n",
        "  if N=='Daili':  # all the elements will remove after the given condition, including the element which is given.\n",
        "    break\n",
        "  print(N)"
      ],
      "metadata": {
        "colab": {
          "base_uri": "https://localhost:8080/"
        },
        "id": "4dEnU4aFy_Sb",
        "outputId": "3272fa12-348d-4ef1-b669-38d432de0a37"
      },
      "execution_count": 7,
      "outputs": [
        {
          "output_type": "stream",
          "name": "stdout",
          "text": [
            "Kayia\n",
            "Adaziia\n",
            "Eloni\n",
            "Mariine\n"
          ]
        }
      ]
    },
    {
      "cell_type": "markdown",
      "source": [],
      "metadata": {
        "id": "3kSGIdW8b4ip"
      }
    },
    {
      "cell_type": "markdown",
      "source": [],
      "metadata": {
        "id": "GHzm68yKaAQN"
      }
    }
  ]
}